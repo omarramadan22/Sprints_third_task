{
 "cells": [
  {
   "cell_type": "markdown",
   "metadata": {
    "id": "_iy0pyqlqwnV"
   },
   "source": [
    "## Import libraries"
   ]
  },
  {
   "cell_type": "code",
   "execution_count": 1,
   "metadata": {
    "id": "nC96btiHqke-"
   },
   "outputs": [],
   "source": [
    "import numpy as np\n",
    "import pandas as pd\n",
    "import matplotlib.pyplot as plt\n",
    "from sklearn import metrics"
   ]
  },
  {
   "cell_type": "markdown",
   "metadata": {
    "id": "rZJ5GCvOq2jK"
   },
   "source": [
    "## Load the data"
   ]
  },
  {
   "cell_type": "code",
   "execution_count": 2,
   "metadata": {
    "colab": {
     "base_uri": "https://localhost:8080/"
    },
    "id": "vdnQzKVhq3Mf",
    "outputId": "56932fbe-b0bf-461b-87c8-09e990baadc7"
   },
   "outputs": [
    {
     "name": "stdout",
     "output_type": "stream",
     "text": [
      "               SAT          IQ        GPA\n",
      "count    84.000000   84.000000  84.000000\n",
      "mean   1845.273810  111.928571   3.330238\n",
      "std     104.530661    8.050721   0.271617\n",
      "min    1634.000000   96.000000   2.400000\n",
      "25%    1772.000000  106.000000   3.190000\n",
      "50%    1846.000000  112.000000   3.380000\n",
      "75%    1934.000000  119.000000   3.502500\n",
      "max    2050.000000  128.000000   3.810000\n",
      "(84, 3)\n",
      "(84,)\n"
     ]
    }
   ],
   "source": [
    "data = pd.read_csv('USA_Students.csv')\n",
    "print(data.describe())\n",
    "X=data['SAT']\n",
    "Y=data['GPA']\n",
    "print(data.shape)\n",
    "print(X.shape)"
   ]
  },
  {
   "cell_type": "markdown",
   "metadata": {
    "id": "pXTzCL1yq5Yj"
   },
   "source": [
    "## Plot the samples"
   ]
  },
  {
   "cell_type": "code",
   "execution_count": null,
   "metadata": {
    "colab": {
     "base_uri": "https://localhost:8080/",
     "height": 288
    },
    "id": "NntuwwQgq8IZ",
    "outputId": "9695f848-3dcd-4f26-d6b1-2d70f961500b"
   },
   "outputs": [
    {
     "data": {
      "image/png": "[encoded data removed]",
      "text/plain": [
       "<Figure size 432x288 with 1 Axes>"
      ]
     },
     "metadata": {
      "needs_background": "light"
     },
     "output_type": "display_data"
    }
   ],
   "source": [
    "plt.scatter(X, Y)\n",
    "plt.xlabel('SAT', fontsize = 20)\n",
    "plt.ylabel('GPA', fontsize = 20)\n",
    "plt.show()"
   ]
  },
  {
   "cell_type": "markdown",
   "metadata": {
    "id": "cXs7utKJq_Vj"
   },
   "source": [
    "## Hyper-prameters"
   ]
  },
  {
   "cell_type": "code",
   "execution_count": null,
   "metadata": {
    "id": "-iAcECVcrEE7"
   },
   "outputs": [],
   "source": [
    "L = 0.0000001  # The learning Rate\n",
    "epochs = 100  # The number of iterations to perform gradient descent\n",
    "m=0\n",
    "c=0\n",
    "n = float(len(X)) # Number of elements in X"
   ]
  },
  {
   "cell_type": "markdown",
   "metadata": {
    "id": "h7q5g-WmrHCg"
   },
   "source": [
    "## Gradient Descent Algorithm"
   ]
  },
  {
   "cell_type": "code",
   "execution_count": null,
   "metadata": {
    "id": "bvTWIbTarJ-Z"
   },
   "outputs": [],
   "source": [
    "for i in range(epochs):\n",
    "\n",
    "    # Step 1 : Calculate YHAT\n",
    "    Y_pred = m*X + c  # The current predicted value of Y\n",
    "    \n",
    "    # Step 2 : Get Gradients\n",
    "    D_m = (-2/n) * sum(X * (Y - Y_pred))  # Derivative wrt m\n",
    "    D_c = (-2/n) * sum(Y - Y_pred)  # Derivative wrt c\n",
    "    \n",
    "    # Step : Update\n",
    "    m = m - L * D_m  # Update m\n",
    "    c = c - L * D_c  # Update c"
   ]
  },
  {
   "cell_type": "markdown",
   "metadata": {
    "id": "HNt8biVHrLPB"
   },
   "source": [
    "## Evaluation"
   ]
  },
  {
   "cell_type": "code",
   "execution_count": null,
   "metadata": {
    "colab": {
     "base_uri": "https://localhost:8080/",
     "height": 305
    },
    "id": "xqNURTC9rOwj",
    "outputId": "9f5a9dff-e76b-419b-b440-2dbb3e9fa3a2"
   },
   "outputs": [
    {
     "data": {
      "image/png": "[encoded data removed]",
      "text/plain": [
       "<Figure size 432x288 with 1 Axes>"
      ]
     },
     "metadata": {
      "needs_background": "light"
     },
     "output_type": "display_data"
    },
    {
     "name": "stdout",
     "output_type": "stream",
     "text": [
      "Mean Square Error 0.043539966469155686\n"
     ]
    }
   ],
   "source": [
    "prediction=X*m+c\n",
    "plt.scatter(X, Y)\n",
    "plt.xlabel('SAT', fontsize = 20)\n",
    "plt.ylabel('GPA', fontsize = 20)\n",
    "plt.plot(X, prediction, color='red', linewidth = 3)\n",
    "plt.show()\n",
    "\n",
    "print('Mean Square Error', metrics.mean_squared_error(Y, prediction))"
   ]
  },
  {
   "cell_type": "markdown",
   "metadata": {
    "id": "AOAUQePPr0Jd"
   },
   "source": [
    "## Prediction"
   ]
  },
  {
   "cell_type": "code",
   "execution_count": null,
   "metadata": {
    "colab": {
     "base_uri": "https://localhost:8080/"
    },
    "id": "w6cQEOoArz0-",
    "outputId": "ce002707-8370-4da3-a55f-7b89628b940b"
   },
   "outputs": [
    {
     "name": "stdout",
     "output_type": "stream",
     "text": [
      "Enter your SAT score: 1900\n",
      "Your predicted GPA is 3.4281094590295123\n"
     ]
    }
   ],
   "source": [
    "#Predict your GPA based on your SAT Score\n",
    "STA_Score=int(input('Enter your SAT score: '))\n",
    "y_test=m*STA_Score + c\n",
    "print('Your predicted GPA is ' + str(float(y_test)))"
   ]
  },
  {
   "cell_type": "markdown",
   "metadata": {
    "id": "WHqX0Ajr9HGU"
   },
   "source": [
    "# Exercise 3"
   ]
  },
  {
   "cell_type": "markdown",
   "metadata": {
    "id": "K2xpDHTF9qlm"
   },
   "source": [
    "## Feature Encoding"
   ]
  },
  {
   "cell_type": "code",
   "execution_count": 7,
   "metadata": {
    "id": "UTn7M5DX9sTE"
   },
   "outputs": [],
   "source": [
    "from sklearn.preprocessing import LabelEncoder\n",
    "def Feature_Encoder(X,cols):\n",
    "    for c in cols:\n",
    "        lbl = LabelEncoder()\n",
    "        lbl.fit(list(X[c].values))\n",
    "        X[c] = lbl.transform(list(X[c].values))\n",
    "    return X"
   ]
  },
  {
   "cell_type": "markdown",
   "metadata": {
    "id": "yWuaAPV29wsS"
   },
   "source": [
    "## Data preprocessing"
   ]
  },
  {
   "cell_type": "code",
   "execution_count": 8,
   "metadata": {
    "colab": {
     "base_uri": "https://localhost:8080/",
     "height": 1000
    },
    "id": "0OM4se_a9LcM",
    "outputId": "045fe8cb-b3f2-44d1-937c-5e310b6582d6"
   },
   "outputs": [
    {
     "name": "stdout",
     "output_type": "stream",
     "text": [
      "       Age Nationality  Overall  Potential                 Club Position  \\\n",
      "0       31   Argentina       94         94         FC Barcelona       RF   \n",
      "1       33    Portugal       94         94             Juventus       ST   \n",
      "2       26      Brazil       92         93  Paris Saint-Germain       LW   \n",
      "3       27       Spain       91         93    Manchester United       GK   \n",
      "4       27     Belgium       91         92      Manchester City      RCM   \n",
      "...    ...         ...      ...        ...                  ...      ...   \n",
      "17950   19     England       47         65      Crewe Alexandra       CM   \n",
      "17951   19      Sweden       47         63       Trelleborgs FF       ST   \n",
      "17952   16     England       47         67     Cambridge United       ST   \n",
      "17953   17     England       47         66      Tranmere Rovers       RW   \n",
      "17954   16     England       46         66      Tranmere Rovers       CM   \n",
      "\n",
      "       Crossing  Finishing  HeadingAccuracy  ShortPassing  ...  Vision  \\\n",
      "0          84.0       95.0             70.0          90.0  ...    94.0   \n",
      "1          84.0       94.0             89.0          81.0  ...    82.0   \n",
      "2          79.0       87.0             62.0          84.0  ...    87.0   \n",
      "3          17.0       13.0             21.0          50.0  ...    68.0   \n",
      "4          93.0       82.0             55.0          92.0  ...    94.0   \n",
      "...         ...        ...              ...           ...  ...     ...   \n",
      "17950      34.0       38.0             40.0          49.0  ...    52.0   \n",
      "17951      23.0       52.0             52.0          43.0  ...    33.0   \n",
      "17952      25.0       40.0             46.0          38.0  ...    43.0   \n",
      "17953      44.0       50.0             39.0          42.0  ...    47.0   \n",
      "17954      41.0       34.0             46.0          48.0  ...    49.0   \n",
      "\n",
      "       Penalties  Composure  Marking  StandingTackle  SlidingTackle  GKDiving  \\\n",
      "0           75.0       96.0     33.0            28.0           26.0       6.0   \n",
      "1           85.0       95.0     28.0            31.0           23.0       7.0   \n",
      "2           81.0       94.0     27.0            24.0           33.0       9.0   \n",
      "3           40.0       68.0     15.0            21.0           13.0      90.0   \n",
      "4           79.0       88.0     68.0            58.0           51.0      15.0   \n",
      "...          ...        ...      ...             ...            ...       ...   \n",
      "17950       43.0       45.0     40.0            48.0           47.0      10.0   \n",
      "17951       43.0       42.0     22.0            15.0           19.0      10.0   \n",
      "17952       55.0       41.0     32.0            13.0           11.0       6.0   \n",
      "17953       50.0       46.0     20.0            25.0           27.0      14.0   \n",
      "17954       33.0       43.0     40.0            43.0           50.0      10.0   \n",
      "\n",
      "       GKHandling  GKKicking  GKPositioning  \n",
      "0            11.0       15.0           14.0  \n",
      "1            11.0       15.0           14.0  \n",
      "2             9.0       15.0           15.0  \n",
      "3            85.0       87.0           88.0  \n",
      "4            13.0        5.0           10.0  \n",
      "...           ...        ...            ...  \n",
      "17950        13.0        7.0            8.0  \n",
      "17951         9.0        9.0            5.0  \n",
      "17952         5.0       10.0            6.0  \n",
      "17953         6.0       14.0            8.0  \n",
      "17954        15.0        9.0           12.0  \n",
      "\n",
      "[17907 rows x 39 columns]\n"
     ]
    },
    {
     "data": {
      "image/png": "[encoded data removed]",
      "text/plain": [
       "<Figure size 864x576 with 2 Axes>"
      ]
     },
     "metadata": {
      "needs_background": "light"
     },
     "output_type": "display_data"
    }
   ],
   "source": [
    "# Import libraries\n",
    "import numpy as np\n",
    "import pandas as pd\n",
    "import seaborn as sns\n",
    "import matplotlib.pyplot as plt\n",
    "from sklearn import linear_model\n",
    "from sklearn import metrics\n",
    "from sklearn.model_selection import train_test_split\n",
    "\n",
    "# Pre-processing\n",
    "#Load players data\n",
    "data = pd.read_csv('fifa19.csv')\n",
    "#Drop the rows that contain missing values\n",
    "data.dropna(how='any',inplace=True)\n",
    "fifa_data=data.iloc[:,:]\n",
    "X=data.iloc[:,1:40] #Features\n",
    "print(X)\n",
    "Y=data['Value'] #Label\n",
    "cols=('Nationality','Club','Position')\n",
    "X=Feature_Encoder(X,cols);\n",
    "\n",
    "#Split the data to training and testing sets\n",
    "X_train, X_test, y_train, y_test = train_test_split(X, Y, test_size = 0.30,shuffle=True)\n",
    "#Get the correlation between the features\n",
    "corr = fifa_data.corr()\n",
    "#Top 50% Correlation training features with the Value\n",
    "top_feature = corr.index[abs(corr['Value']>0.5)]\n",
    "#Correlation plot\n",
    "plt.subplots(figsize=(12, 8))\n",
    "top_corr = fifa_data[top_feature].corr()\n",
    "sns.heatmap(top_corr, annot=True)\n",
    "plt.show()"
   ]
  },
  {
   "cell_type": "markdown",
   "metadata": {
    "id": "Ztb9rLzz98bI"
   },
   "source": [
    "## Multiple Linear Regression"
   ]
  },
  {
   "cell_type": "code",
   "execution_count": 12,
   "metadata": {
    "id": "MON9RfRu-GBk"
   },
   "outputs": [],
   "source": [
    "cls = linear_model.LinearRegression()\n",
    "\n",
    "L = 0.0000001  # The learning Rate\n",
    "epochs = 1000  # The number of iterations to perform gradient descent\n",
    "m1=0\n",
    "m2=0\n",
    "m3=0\n",
    "c=0\n",
    "X1=data['Overall']\n",
    "X2=data['Potential']\n",
    "X3=data['Reactions']\n",
    "Y=data['Value']\n",
    "n = float(len(X_train)) # Number of elements in X\n",
    "for i in range(epochs):\n",
    "    # Student code\n",
    "   # Step 1 : Calculate YHAT\n",
    "    Y_pred = m1*X1 +m2*X2 + m3*X3 + c  # The current predicted value of Y\n",
    "    \n",
    "    # Step 2 : Get Gradients\n",
    "    D_m1 = (-2/n) *sum ( X1 * (Y - Y_pred))  # Derivative wrt m1\n",
    "    D_m2 = (-2/n) * sum( X2 * (Y - Y_pred))  # Derivative wrt m2\n",
    "    D_m3 = (-2/n) *sum( X3 * (Y - Y_pred))  # Derivative wrt m3\n",
    "    D_c = (-2/n) * sum(Y - Y_pred)  # Derivative wrt c\n",
    "    \n",
    "    # Step : Update\n",
    "    m1 = m1 - L * D_m1  # Update m1\n",
    "    m2 = m2 - L * D_m2 # Update m2\n",
    "    m3 = m3 - L * D_m3  # Update m3\n",
    "    c = c - L * D_c  # Update c\n"
   ]
  },
  {
   "cell_type": "code",
   "execution_count": 13,
   "metadata": {},
   "outputs": [
    {
     "name": "stdout",
     "output_type": "stream",
     "text": [
      "Mean Square Error 29.890961190678777\n"
     ]
    }
   ],
   "source": [
    "prediction=X1*m1+X2*m2+X3*m3+c\n",
    "\n",
    "print('Mean Square Error', metrics.mean_squared_error(Y, prediction))"
   ]
  },
  {
   "cell_type": "code",
   "execution_count": 14,
   "metadata": {},
   "outputs": [
    {
     "name": "stdout",
     "output_type": "stream",
     "text": [
      "Enter your Overall score: 90\n",
      "Enter your Potential score: 88\n",
      "Enter your Reactions score: 89\n",
      "Your predicted player Value is 3.6528376251128156\n"
     ]
    }
   ],
   "source": [
    "Overall=int(input('Enter your Overall score: '))\n",
    "Potential=int(input('Enter your Potential score: '))\n",
    "Reactions=int(input('Enter your Reactions score: '))\n",
    "y_test=m1*Overall +m2*Potential +m3*Reactions + c\n",
    "print('Your predicted player Value is ' + str(float(y_test)))"
   ]
  },
  {
   "cell_type": "markdown",
   "metadata": {
    "id": "FmBrijtU-UQi"
   },
   "source": [
    "## Prediction"
   ]
  },
  {
   "cell_type": "code",
   "execution_count": 5,
   "metadata": {
    "colab": {
     "base_uri": "https://localhost:8080/"
    },
    "id": "_Do_JSiF-VSh",
    "outputId": "e9bd336d-77f4-4b5b-9f06-884ef78ee697"
   },
   "outputs": [
    {
     "name": "stdout",
     "output_type": "stream",
     "text": [
      "Co-efficient of linear regression [-2.87096920e-01 -9.54378903e-04  5.66167196e-01  4.66753210e-02\n",
      "  7.57360003e-05 -1.23576685e-02 -5.51966253e-03  1.36914433e-02\n",
      " -9.32416770e-03 -1.20248865e-02  3.41342182e-02 -6.33641211e-03\n",
      "  1.12147442e-03  1.22246934e-02  9.75054393e-03 -4.48489949e-02\n",
      " -3.43539559e-03 -7.73830653e-03 -2.02504179e-02  5.09390584e-02\n",
      "  1.40793818e-02 -2.20970465e-02 -5.77322292e-04 -5.66292434e-03\n",
      " -8.66628920e-03 -2.34893393e-02 -2.80941903e-03 -9.38048556e-03\n",
      "  1.21322882e-02  2.26392446e-02 -5.47111771e-04  6.42495129e-03\n",
      "  1.77163512e-03 -1.10777249e-03 -2.45989468e-03 -1.51766543e-02\n",
      " -5.25542663e-03  9.06260364e-03 -3.29808486e-02]\n",
      "Intercept of linear regression model -29.247648773757497\n",
      "Mean Square Error 33.27548555075285\n",
      "Mean Square Error 2 17.295002612763057\n",
      "True value for the first player in the test set in millions is : 6.0\n",
      "Predicted value for the first player in the test set in millions is : 3.0985593438060244\n"
     ]
    }
   ],
   "source": [
    "prediction=np.array(X_test)[:,0]*m1+np.array(X_test)[:,1]*m2+np.array(X_test)[:,2]*m3+c\n",
    "\n",
    "cls.fit(X_train,y_train)\n",
    "prediction2= cls.predict(X_test)\n",
    "\n",
    "print('Co-efficient of linear regression',cls.coef_)\n",
    "print('Intercept of linear regression model',cls.intercept_)\n",
    "print('Mean Square Error', metrics.mean_squared_error(np.asarray(y_test), prediction))\n",
    "print('Mean Square Error 2', metrics.mean_squared_error(np.asarray(y_test), prediction2))\n",
    "\n",
    "true_player_value=np.asarray(y_test)[1]\n",
    "predicted_player_value=prediction[1]\n",
    "\n",
    "print('True value for the first player in the test set in millions is : ' + str(true_player_value))\n",
    "print('Predicted value for the first player in the test set in millions is : ' + str(predicted_player_value))"
   ]
  },
  {
   "cell_type": "markdown",
   "metadata": {
    "id": "23JLL0Q3-WV4"
   },
   "source": [
    "## Polynomial Regression"
   ]
  },
  {
   "cell_type": "code",
   "execution_count": 13,
   "metadata": {
    "colab": {
     "base_uri": "https://localhost:8080/",
     "height": 1000
    },
    "id": "rIpjp5CJ-Xrc",
    "outputId": "0a8b8b3a-978d-40da-ea5b-df077577fbe0"
   },
   "outputs": [
    {
     "data": {
      "image/png": "[encoded data removed]",
      "text/plain": [
       "<Figure size 864x576 with 2 Axes>"
      ]
     },
     "metadata": {
      "needs_background": "light"
     },
     "output_type": "display_data"
    },
    {
     "name": "stdout",
     "output_type": "stream",
     "text": [
      "Co-efficient of linear regression [-5.09305397e-12  4.10944635e+00  8.83382012e-03 -6.19341500e+00\n",
      "  2.17062200e-01  6.59527937e-03  1.35961481e-01 -8.10803151e-02\n",
      " -1.41088590e-01 -1.98039375e-02 -5.69859676e-04 -3.22578896e-01\n",
      "  1.94954520e-01  8.67837802e-02 -4.06296999e-01 -9.71881993e-02\n",
      "  2.97431720e-01 -2.02285227e-02  1.23570876e-01  1.06723778e-01\n",
      " -5.28408848e-01 -4.31615668e-02  3.40115051e-01 -9.43193647e-02\n",
      " -2.89008298e-02  7.16068226e-02  2.30238234e-01  9.73605692e-04\n",
      "  1.26191692e-01 -2.15072909e-01 -1.13899673e-01  4.17419438e-02\n",
      " -4.34024968e-02 -1.16761422e-01  2.95118684e-02  2.47146023e-01\n",
      "  2.70732851e-01  4.23473476e-01 -3.78256016e-01 -8.98215591e-02\n",
      " -2.17356995e-02  9.15860594e-05 -2.41337145e-02 -3.26369150e-02\n",
      " -5.33016240e-05  1.68800944e-03  2.80944724e-03  2.31526129e-04\n",
      "  1.34719468e-03  1.38655793e-03 -3.50335339e-04 -1.09715028e-03\n",
      " -9.21777657e-04  2.44768109e-03 -1.42353648e-03  3.41574232e-03\n",
      " -3.17067311e-03  2.41522890e-03  5.06223901e-04  3.84570202e-04\n",
      " -1.16186639e-03  2.23598482e-04  2.62670853e-03  3.45507582e-04\n",
      "  5.18944990e-04 -1.80538864e-04  1.32646631e-03  1.61112335e-03\n",
      "  5.81233257e-04  3.09486106e-04  4.30090845e-05 -1.30055167e-03\n",
      "  2.71558422e-03  2.16835412e-03 -4.83980920e-03  1.10711956e-03\n",
      " -2.94455554e-03  6.44503995e-03  4.45171086e-03  4.76590785e-07\n",
      " -4.46905128e-04  5.24505041e-05 -2.05601729e-07  1.42845984e-04\n",
      " -1.26447453e-05  9.08473672e-05  7.87202232e-05  2.22274173e-05\n",
      "  6.48784063e-05  4.96664306e-05  1.38910099e-05 -4.46969450e-05\n",
      " -1.43715432e-05 -1.07918316e-04  6.73193491e-05 -4.61630056e-05\n",
      "  6.21432714e-05 -7.01683357e-05 -1.11965319e-04  6.70877505e-05\n",
      "  1.07024502e-05  2.31379735e-06 -6.76015325e-05 -1.06054503e-04\n",
      "  9.89437234e-05  4.12578414e-05 -8.12839261e-07  7.01814095e-05\n",
      " -2.33667176e-05 -3.44006740e-05  7.72607161e-05  1.92750163e-04\n",
      " -1.46372116e-04  4.96847900e-05  1.77228293e-04  1.29747848e-04\n",
      " -1.19396195e-04  5.96278086e-02  1.92940258e-02 -8.57375442e-06\n",
      "  7.60045139e-04 -2.89464133e-03 -5.93393332e-04 -1.53513038e-03\n",
      " -3.39322613e-03  4.17478832e-03 -2.55613639e-03 -1.57313934e-04\n",
      "  2.60671203e-03  2.36741156e-03 -6.86856276e-03  7.83655321e-04\n",
      " -2.64246235e-03  5.24121431e-04  3.79801646e-03  1.01666480e-03\n",
      " -4.09514592e-03  2.75168219e-05 -8.98160095e-04 -2.14583768e-03\n",
      " -2.24068994e-03 -1.31445683e-03 -3.11542758e-04  6.27394780e-04\n",
      " -2.02859517e-03 -1.71808840e-03  1.77957533e-03 -4.51691309e-03\n",
      " -7.44498744e-03  3.34113126e-03 -9.96481409e-03 -8.24610705e-04\n",
      " -4.63780825e-03 -8.69662949e-03 -6.34574414e-03 -7.14844153e-05\n",
      " -5.78122952e-04  2.15745197e-03  9.08352713e-04  1.80499598e-03\n",
      "  6.08579912e-04  1.65748133e-03 -1.87187306e-03 -6.96050508e-04\n",
      "  3.05062890e-03 -1.80834345e-04 -4.09437420e-05 -1.15194823e-03\n",
      "  1.47186909e-04 -1.38826573e-03  2.51933752e-03  7.58723872e-04\n",
      " -1.40986415e-03  1.52885066e-03 -5.92258367e-04 -3.92001508e-04\n",
      " -2.88597914e-03  7.03887964e-05 -6.54502593e-04  1.82693818e-03\n",
      "  1.09144003e-03  1.31922086e-03 -2.38459945e-03  2.18382328e-03\n",
      "  2.55264222e-03 -4.32031663e-03 -1.99815479e-03 -4.64751977e-03\n",
      "  5.43217127e-03  4.51125373e-03 -2.06625553e-06  9.34166482e-06\n",
      " -4.58635052e-06 -1.25588521e-06 -1.39506759e-05 -3.64681874e-05\n",
      " -4.57039019e-06 -8.39518686e-06  1.04803183e-05  2.17191540e-07\n",
      "  1.16838531e-05  6.70044017e-05  2.51203019e-06 -2.58781584e-06\n",
      "  1.44632205e-05  2.90692236e-05 -1.41076635e-05 -8.56172783e-06\n",
      " -1.25343101e-05  4.67382399e-06  4.65202857e-06 -8.28637974e-06\n",
      " -1.09167306e-07  1.95569389e-05 -8.33020268e-06 -2.70742605e-05\n",
      "  1.20024600e-05  1.66927626e-05 -1.20312132e-05  5.28487029e-06\n",
      " -1.20121580e-05 -3.30653847e-05  8.10094187e-06 -7.47141219e-06\n",
      "  3.66330709e-05 -1.28487394e-03  6.21374965e-06 -5.02580361e-04\n",
      " -7.79413363e-04  1.37496001e-03 -4.88493676e-04  4.46178242e-04\n",
      " -1.42930653e-04 -3.41817035e-04 -2.96875959e-04 -1.52280649e-03\n",
      "  7.29580390e-04 -9.79487038e-04  7.14901895e-04 -3.54252765e-04\n",
      " -5.77579133e-04  1.08153491e-03 -2.63343577e-04 -4.12933732e-04\n",
      " -8.64392562e-05  3.53618713e-04 -8.21612690e-04 -2.83315941e-04\n",
      "  1.19660439e-04 -1.69422986e-04 -3.65818649e-04 -1.75111454e-04\n",
      " -2.74798556e-04  9.18391386e-04 -8.13975636e-04  1.42050893e-03\n",
      "  1.42105340e-03 -4.93769357e-04  1.80897209e-03 -3.00194374e-04\n",
      " -4.71850002e-05  5.90579875e-04 -8.01738365e-05 -1.00132392e-04\n",
      " -4.72995187e-04  2.20368579e-04  5.99150008e-05 -3.94289766e-04\n",
      " -6.52219791e-04  3.65736596e-04  2.03504878e-06 -2.69176852e-04\n",
      "  5.64497143e-04  5.16127200e-04  4.59497560e-04  3.18547649e-04\n",
      " -3.60838288e-04  5.90458335e-04 -8.14585575e-05 -1.90169169e-04\n",
      "  2.30422255e-04  3.38682416e-04  1.87601336e-04  3.68953658e-06\n",
      " -7.95247875e-04  1.27907726e-04  3.26500545e-04 -2.37045287e-04\n",
      "  1.40956108e-03 -5.40233491e-04 -1.09602667e-03  8.62244521e-05\n",
      "  3.16143117e-04 -1.22615046e-04  9.51968321e-04  5.29011365e-04\n",
      "  4.10563613e-04  3.68020189e-05  1.96276384e-04 -5.75897687e-04\n",
      " -2.11326155e-03  6.03685994e-04 -2.46676184e-04 -2.71685813e-04\n",
      "  6.25996459e-04 -5.62943142e-05  3.99413243e-04  3.77992575e-04\n",
      "  3.36315889e-04  5.94592121e-05 -7.42564794e-04  3.73854566e-04\n",
      "  2.62213206e-04  2.04880596e-04  4.89543135e-04 -4.93972123e-04\n",
      " -3.56709010e-04  8.50422719e-04 -1.04119242e-03  6.84537326e-04\n",
      "  1.01479903e-03 -9.56654026e-05  5.82652629e-04 -1.19378490e-03\n",
      " -5.81036001e-04 -2.47190725e-04  1.78224501e-04 -1.85007138e-04\n",
      "  2.48536828e-04  1.76439694e-04 -3.75264344e-04 -1.51525383e-04\n",
      "  1.01697747e-03 -8.68252070e-04 -5.94456460e-04  6.43022231e-04\n",
      "  1.15491027e-04 -1.49925100e-04 -1.96734758e-04  1.46130132e-04\n",
      "  2.06022970e-04 -1.67220739e-05  3.19233833e-04 -4.30806108e-04\n",
      " -4.03605615e-04  9.80574053e-04  7.42446625e-05 -3.53389714e-04\n",
      "  2.29277273e-04 -7.00501648e-04  5.22168088e-04 -1.57240187e-03\n",
      " -1.70061743e-03  1.97987128e-03  8.29910742e-04  3.00615561e-04\n",
      " -9.78071583e-04  1.04016692e-04  5.82038673e-04 -6.31818683e-04\n",
      " -8.02526540e-04 -4.53038137e-04  8.42351251e-04  1.19117440e-05\n",
      " -5.23750123e-04 -9.06104829e-04  4.47927145e-04  4.11214829e-04\n",
      " -2.52214916e-04 -2.04372729e-04  6.72680738e-04  8.78467820e-04\n",
      " -7.62401825e-04  1.17703033e-04 -6.88893640e-04  4.11049602e-04\n",
      " -1.16835743e-04  2.85146250e-04  1.21543073e-04  1.81241596e-03\n",
      "  8.64984877e-05  2.52782258e-03 -6.83231855e-05 -3.64710519e-04\n",
      " -2.91901038e-04  1.68701972e-04  3.58215714e-04  4.25404544e-04\n",
      "  2.03384004e-04  2.79593075e-04 -6.86450856e-05  1.00685149e-03\n",
      " -6.09935863e-04  2.01174752e-04 -1.24460410e-03 -1.50789754e-04\n",
      " -1.33889000e-03  6.52693796e-05 -2.09896550e-04 -8.06810422e-05\n",
      "  1.57125941e-04  4.60394118e-04  2.94747904e-04 -4.85764334e-04\n",
      "  5.68066562e-04  3.12022958e-04 -5.04312235e-04 -5.83786205e-04\n",
      "  5.63527168e-04 -2.37198197e-04 -1.13477492e-03  6.32678588e-04\n",
      "  9.75677668e-04 -3.96232887e-04  1.01954619e-03 -5.83255667e-04\n",
      "  6.44707265e-05 -1.36037612e-04 -5.63518696e-04 -9.78550613e-04\n",
      "  6.60735475e-04 -6.58415120e-04 -1.11830785e-03  4.11932681e-05\n",
      "  5.28528568e-04 -3.38022152e-04 -2.84037107e-04  2.19121102e-04\n",
      " -8.17083952e-04  4.12355050e-04  7.41347477e-04 -4.66879192e-04\n",
      "  8.38767489e-05  3.25450620e-04  1.13547259e-03 -2.56815155e-04\n",
      "  2.52908720e-04  1.23232746e-03 -5.07948689e-04  2.59188935e-03\n",
      "  1.50522266e-03 -1.16990749e-03 -6.29391242e-04  4.52470327e-04\n",
      "  1.19769148e-04  2.37459098e-04 -3.54336693e-04  2.35838741e-04\n",
      "  6.33128738e-04  1.88977946e-04 -6.22771189e-04  3.56547727e-04\n",
      "  2.66421890e-05 -2.05639956e-04 -5.54762511e-05 -3.90410975e-05\n",
      " -5.15402643e-04  2.58698051e-04  9.40404326e-05 -1.95500824e-04\n",
      " -1.80270863e-04 -5.43023125e-05 -5.69004648e-05 -7.84330004e-04\n",
      "  8.76380350e-04 -9.36901207e-04 -3.44375130e-04 -1.76283930e-04\n",
      "  8.99875989e-04  1.37861199e-04 -4.30450821e-05 -5.98866105e-04\n",
      "  2.46185344e-04 -1.77621833e-04 -2.24632118e-04 -2.91670416e-04\n",
      "  3.69499242e-04 -3.67139236e-04  6.56222606e-05  3.07182923e-04\n",
      "  4.93821298e-05 -2.16705461e-04 -1.65053122e-04 -9.68614179e-05\n",
      "  2.68458117e-04 -3.61864786e-04 -2.78923099e-04  3.48548209e-04\n",
      " -1.22199753e-04  5.85705982e-04 -6.20415228e-04 -9.50988926e-04\n",
      " -9.50816442e-04  6.52259595e-04  8.68204570e-04  1.99404340e-04\n",
      "  6.31778097e-04  3.38313125e-05 -2.13588274e-05 -3.33765406e-05\n",
      "  7.63149444e-04 -3.51165868e-04  4.00173047e-05  3.99068223e-04\n",
      "  2.70138595e-04 -4.79159928e-04 -6.08030743e-04 -1.02333070e-05\n",
      " -9.24633985e-04  9.13981795e-04 -4.13242425e-04  2.75519625e-04\n",
      "  4.55131211e-04 -1.67905923e-04  8.48420470e-04 -3.44525129e-04\n",
      " -9.10482623e-04  7.06162949e-04 -1.85614539e-04 -1.20066069e-04\n",
      "  6.11422542e-04 -4.00469673e-04  8.64927673e-04  1.11882344e-03\n",
      " -4.14544207e-04 -6.73601775e-04 -3.88925297e-04 -8.97729193e-05\n",
      "  4.55255153e-04 -6.68063622e-04  1.17878621e-03  4.18903454e-04\n",
      " -5.93588706e-04  5.15493443e-04 -6.39383477e-05  1.60176701e-03\n",
      "  3.99786841e-05  1.65921393e-03 -1.54874247e-03  3.04246580e-04\n",
      "  1.44257167e-03 -2.64887355e-03 -2.22172260e-03  4.26891249e-03\n",
      " -1.10094206e-04  6.30741985e-04  2.70604770e-04  7.92771941e-04\n",
      "  2.33605284e-04 -7.42853668e-04 -4.01997807e-04 -1.68447639e-04\n",
      " -1.32795774e-04  3.00483866e-04  4.64935103e-04 -8.37595277e-04\n",
      " -1.84012336e-03  6.34822201e-04 -3.93325469e-04  6.92964035e-04\n",
      "  9.37073443e-04 -6.04835852e-04  1.43629307e-04  1.13687068e-03\n",
      " -2.62923366e-04  1.36499210e-04 -7.49310286e-04 -2.81332343e-04\n",
      " -9.88276294e-04 -6.58751729e-04 -7.75325022e-04  6.14674407e-04\n",
      "  5.08149432e-04  4.50109335e-04  2.33473809e-04 -3.03742891e-04\n",
      " -4.82751182e-04  1.26618785e-03  1.18752086e-03 -3.17330799e-04\n",
      "  2.56182965e-05 -2.40248089e-04 -7.43243568e-04 -5.34837537e-04\n",
      "  4.46560738e-04 -2.07141398e-03  1.73839924e-03  8.78918474e-04\n",
      "  2.06588762e-04  1.57670871e-05 -6.22845371e-04  3.22662411e-04\n",
      "  3.64438811e-04  5.32360989e-04  1.90429931e-04 -3.10951151e-05\n",
      " -1.62224224e-04  1.59477552e-04 -5.84288533e-05  3.21083220e-05\n",
      " -2.53490560e-04 -1.34206067e-04 -4.45774941e-04  3.11430855e-05\n",
      "  8.16205118e-04 -8.28326803e-04  3.32594079e-04 -6.99169003e-04\n",
      " -4.89017278e-04  4.64090178e-04  6.70161300e-04  3.97001495e-04\n",
      " -3.38629749e-04 -8.18950396e-04  4.18921885e-04  3.21210065e-04\n",
      "  3.07321744e-04 -3.12748484e-04 -1.27879180e-03  1.34566408e-04\n",
      "  6.86316881e-04  5.40158961e-04  9.74508284e-04  3.33966659e-04\n",
      "  2.10939252e-04  2.62158700e-05 -1.30024745e-03 -1.39124970e-03\n",
      "  1.14627745e-03  1.76417346e-03  1.14484681e-04 -6.52957588e-04\n",
      " -6.29016634e-04  3.48904654e-05 -1.30565986e-04  6.49816285e-04\n",
      "  4.85898694e-04 -6.34859275e-04  4.37787147e-04 -2.24335991e-04\n",
      " -2.26398237e-04  5.01070163e-04  4.10014589e-04  8.02622874e-04\n",
      " -1.16418753e-03  2.11655395e-04 -3.83362611e-04  3.67460424e-04\n",
      " -4.04242244e-04  2.04392337e-04 -2.77546570e-04 -2.13655947e-04\n",
      "  3.64668201e-05  1.43339258e-04  1.79626482e-04  3.83660009e-04\n",
      " -9.33855037e-04  1.16919342e-04 -7.88964410e-05 -3.10119389e-05\n",
      "  6.48769304e-04  4.32517114e-04 -4.16983497e-04  9.98798955e-04\n",
      "  1.83610070e-03 -8.52198829e-04 -9.11024920e-04  2.19048687e-05\n",
      " -4.61618542e-06 -6.46957529e-05  3.73613184e-04 -3.60813779e-04\n",
      " -2.57328019e-04 -1.85552581e-05 -1.53090104e-04 -1.80727308e-04\n",
      " -2.14177651e-04  1.03970185e-04 -5.65410025e-04  1.04963074e-03\n",
      "  3.96847095e-04 -6.97258801e-05  1.84738227e-04 -7.59210871e-04\n",
      "  1.72760476e-04  2.17710065e-04 -6.82876105e-04  4.00986049e-04\n",
      " -2.11094302e-04  2.15922995e-04  1.93634411e-04  4.70636843e-04\n",
      "  3.28868027e-05  2.13379640e-04 -4.53173545e-04  9.57136228e-05\n",
      "  4.22046456e-04  1.00391615e-03 -1.22242409e-03  2.76994239e-04\n",
      " -4.02705371e-04  4.44539896e-04  2.39862388e-04 -2.17454669e-05\n",
      " -1.78987239e-04  2.97558935e-04  3.66691030e-05  3.75315552e-04\n",
      "  1.32274640e-04  1.89649239e-03 -1.90402552e-03  1.54273314e-03\n",
      "  5.68756249e-04 -1.60556109e-03  4.22708919e-04  2.94996216e-04\n",
      " -5.30435041e-04  2.18536418e-04  4.60098632e-04 -9.19323207e-05\n",
      "  9.13164426e-05  3.73922071e-04 -3.10635198e-04  1.33446443e-04\n",
      "  3.13305019e-04  1.58793710e-03 -4.45861029e-04 -9.54360400e-04\n",
      "  4.34687402e-04 -6.34257318e-05  4.69931100e-04 -1.12787910e-04\n",
      "  4.05714667e-04 -6.30491487e-05 -2.73082271e-04 -3.52634220e-04\n",
      "  7.22779877e-04 -7.63951177e-04  6.82029055e-04 -8.88395887e-04\n",
      "  7.92423309e-04 -1.64443525e-04 -7.31785170e-05 -5.85224619e-04\n",
      "  1.19355843e-03 -8.84950207e-04 -3.21518749e-04  7.03249283e-04\n",
      " -9.28046588e-04  2.41826710e-04 -3.84333869e-04  1.50201463e-03\n",
      " -5.12249271e-04 -7.62970092e-04 -3.37291979e-05 -1.38870465e-05\n",
      " -2.29594858e-05 -6.93599378e-05 -1.11861375e-04  1.92544774e-03\n",
      " -4.00473157e-04  2.77534899e-04 -1.38169671e-03  1.63250127e-03\n",
      "  2.39137475e-04  1.81560829e-04 -4.38444965e-04 -5.16297736e-04\n",
      " -1.92505534e-04 -4.21751484e-04 -3.71254387e-04 -1.05411059e-03\n",
      "  1.80662426e-03  1.54041005e-03 -9.15927680e-04  4.50956534e-05\n",
      " -8.65575520e-04 -5.52201998e-04 -1.65985973e-04  6.33211672e-04\n",
      "  1.26906148e-03 -3.73959488e-04 -4.93991623e-04 -7.76794133e-05\n",
      "  5.39610743e-04  4.98692913e-04 -9.25047587e-04  7.17625847e-04\n",
      "  4.49179068e-04  1.36855156e-04 -3.08511671e-04  7.13320714e-06\n",
      " -6.84629715e-04  5.80282342e-04 -4.70270049e-04  6.47063177e-04\n",
      " -4.13528319e-05  6.18957856e-04  4.41245074e-04 -4.28494208e-04\n",
      "  4.87961709e-04  4.44508660e-03 -5.81874307e-05 -1.07000268e-03\n",
      " -1.97184843e-03 -1.74421185e-04 -2.77306735e-03 -2.07443511e-04\n",
      "  1.66041291e-03  1.88220292e-03  8.16280363e-04  3.74644990e-03\n",
      " -7.25418998e-04 -6.69067867e-04 -9.49553681e-04 -2.01869024e-03\n",
      " -7.85988926e-04  6.67189503e-04  2.85486443e-03  1.28628467e-04]\n",
      "Intercept of linear regression model 134.1295379159052\n",
      "Mean Square Error 5.288634718405212\n",
      "True value for the first player in the test set in millions is : 0.7\n",
      "Predicted value for the first player in the test set in millions is : 0.30238318749940163\n"
     ]
    }
   ],
   "source": [
    "import numpy as np\n",
    "import pandas as pd\n",
    "import seaborn as sns\n",
    "import matplotlib.pyplot as plt\n",
    "from sklearn import linear_model\n",
    "from sklearn import metrics\n",
    "from sklearn.model_selection import train_test_split\n",
    "from sklearn.preprocessing import PolynomialFeatures\n",
    "\n",
    "#Load players data\n",
    "data = pd.read_csv('fifa19.csv')\n",
    "#Drop the rows that contain missing values\n",
    "data.dropna(how='any',inplace=True)\n",
    "fifa_data=data.iloc[:,:]\n",
    "X=data.iloc[:,1:40] #Features\n",
    "Y=data['Value'] #Label\n",
    "cols=('Nationality','Club','Position')\n",
    "X=Feature_Encoder(X,cols);\n",
    "\n",
    "#Split the data to training and testing sets\n",
    "X_train, X_test, y_train, y_test = train_test_split(X, Y, test_size = 0.30)\n",
    "#Get the correlation between the features\n",
    "corr = fifa_data.corr()\n",
    "#Top 50% Correlation training features with the Value\n",
    "top_feature = corr.index[abs(corr['Value']>0.5)]\n",
    "#Correlation plot\n",
    "plt.subplots(figsize=(12, 8))\n",
    "top_corr = fifa_data[top_feature].corr()\n",
    "sns.heatmap(top_corr, annot=True)\n",
    "plt.show()\n",
    "\n",
    "poly_features = PolynomialFeatures(degree=2)\n",
    "\n",
    "# transforms the existing features to higher degree features.\n",
    "X_train_poly = poly_features.fit_transform(X_train)\n",
    "\n",
    "# fit the transformed features to Linear Regression\n",
    "poly_model = linear_model.LinearRegression()\n",
    "poly_model.fit(X_train_poly, y_train)\n",
    "\n",
    "# predicting on training data-set\n",
    "y_train_predicted = poly_model.predict(X_train_poly)\n",
    "\n",
    "# predicting on test data-set\n",
    "prediction = poly_model.predict(poly_features.fit_transform(X_test))\n",
    "\n",
    "\n",
    "print('Co-efficient of linear regression',poly_model.coef_)\n",
    "print('Intercept of linear regression model',poly_model.intercept_)\n",
    "print('Mean Square Error', metrics.mean_squared_error(y_test, prediction))\n",
    "\n",
    "true_player_value=np.asarray(y_test)[0]\n",
    "predicted_player_value=prediction[0]\n",
    "print('True value for the first player in the test set in millions is : ' + str(true_player_value))\n",
    "print('Predicted value for the first player in the test set in millions is : ' + str(predicted_player_value))"
   ]
  },
  {
   "cell_type": "code",
   "execution_count": null,
   "metadata": {},
   "outputs": [],
   "source": []
  }
 ],
 "metadata": {
  "accelerator": "GPU",
  "colab": {
   "collapsed_sections": [],
   "name": "Session 4 - Machine Learning Basics.ipynb",
   "provenance": []
  },
  "gpuClass": "standard",
  "kernelspec": {
   "display_name": "Python 3",
   "language": "python",
   "name": "python3"
  },
  "language_info": {
   "codemirror_mode": {
    "name": "ipython",
    "version": 3
   },
   "file_extension": ".py",
   "mimetype": "text/x-python",
   "name": "python",
   "nbconvert_exporter": "python",
   "pygments_lexer": "ipython3",
   "version": "3.8.3"
  }
 },
 "nbformat": 4,
 "nbformat_minor": 1
}
